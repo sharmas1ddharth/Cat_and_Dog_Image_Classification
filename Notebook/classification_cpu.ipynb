{
 "cells": [
  {
   "cell_type": "code",
   "execution_count": 6,
   "id": "c55e42b6-38b1-495c-be3f-a3adb4ba71c8",
   "metadata": {},
   "outputs": [],
   "source": [
    "import os\n",
    "import cv2\n",
    "import numpy as np\n",
    "from tqdm import tqdm"
   ]
  },
  {
   "cell_type": "code",
   "execution_count": 27,
   "id": "d924867f-0a30-4dee-843a-9d02864eb9b1",
   "metadata": {},
   "outputs": [
    {
     "name": "stdout",
     "output_type": "stream",
     "text": [
      "PetImages/Cat\n"
     ]
    },
    {
     "name": "stderr",
     "output_type": "stream",
     "text": [
      "  2%|▌                                     | 193/12501 [00:00<00:12, 984.39it/s]Corrupt JPEG data: 1153 extraneous bytes before marker 0xd9\n",
      " 26%|█████████▍                          | 3276/12501 [00:03<00:08, 1052.89it/s]Corrupt JPEG data: 99 extraneous bytes before marker 0xd9\n",
      " 54%|███████████████████▌                | 6783/12501 [00:06<00:05, 1110.78it/s]Corrupt JPEG data: 214 extraneous bytes before marker 0xd9\n",
      " 63%|██████████████████████▊             | 7917/12501 [00:07<00:04, 1078.82it/s]Corrupt JPEG data: 239 extraneous bytes before marker 0xd9\n",
      " 75%|███████████████████████████▏        | 9424/12501 [00:08<00:02, 1227.70it/s]Corrupt JPEG data: 128 extraneous bytes before marker 0xd9\n",
      "100%|███████████████████████████████████| 12501/12501 [00:11<00:00, 1123.14it/s]\n",
      "/home/siddharth/.local/lib/python3.10/site-packages/numpy/lib/npyio.py:518: VisibleDeprecationWarning: Creating an ndarray from ragged nested sequences (which is a list-or-tuple of lists-or-tuples-or ndarrays with different lengths or shapes) is deprecated. If you meant to do this, you must specify 'dtype=object' when creating the ndarray.\n",
      "  arr = np.asanyarray(arr)\n"
     ]
    },
    {
     "name": "stdout",
     "output_type": "stream",
     "text": [
      "cat:  12476\n",
      "dog:  0\n",
      "PetImages/Dog\n"
     ]
    },
    {
     "name": "stderr",
     "output_type": "stream",
     "text": [
      " 10%|███▌                                 | 1192/12501 [00:01<00:12, 930.58it/s]Corrupt JPEG data: 65 extraneous bytes before marker 0xd9\n",
      " 11%|████▏                                | 1405/12501 [00:01<00:11, 995.20it/s]Corrupt JPEG data: 254 extraneous bytes before marker 0xd9\n",
      " 16%|█████▉                               | 2016/12501 [00:02<00:10, 979.29it/s]Corrupt JPEG data: 226 extraneous bytes before marker 0xd9\n",
      " 33%|███████████▋                        | 4071/12501 [00:04<00:08, 1043.53it/s]Corrupt JPEG data: 2230 extraneous bytes before marker 0xd9\n",
      " 57%|█████████████████████                | 7125/12501 [00:07<00:05, 978.55it/s]Warning: unknown JFIF revision number 0.00\n",
      " 79%|█████████████████████████████▏       | 9867/12501 [00:09<00:02, 993.47it/s]\n"
     ]
    },
    {
     "ename": "KeyboardInterrupt",
     "evalue": "",
     "output_type": "error",
     "traceback": [
      "\u001b[0;31m---------------------------------------------------------------------------\u001b[0m",
      "\u001b[0;31mKeyboardInterrupt\u001b[0m                         Traceback (most recent call last)",
      "Input \u001b[0;32mIn [27]\u001b[0m, in \u001b[0;36m<cell line: 37>\u001b[0;34m()\u001b[0m\n\u001b[1;32m     37\u001b[0m \u001b[38;5;28;01mif\u001b[39;00m REBUILD_DATA:\n\u001b[1;32m     38\u001b[0m     dogvcat \u001b[38;5;241m=\u001b[39m Dvc()\n\u001b[0;32m---> 39\u001b[0m     \u001b[43mdogvcat\u001b[49m\u001b[38;5;241;43m.\u001b[39;49m\u001b[43mmake_training_data\u001b[49m\u001b[43m(\u001b[49m\u001b[43m)\u001b[49m\n",
      "Input \u001b[0;32mIn [27]\u001b[0m, in \u001b[0;36mDvc.make_training_data\u001b[0;34m(self)\u001b[0m\n\u001b[1;32m     17\u001b[0m \u001b[38;5;28;01mtry\u001b[39;00m:\n\u001b[1;32m     18\u001b[0m     \u001b[38;5;66;03m# print(label)\u001b[39;00m\n\u001b[1;32m     19\u001b[0m     path \u001b[38;5;241m=\u001b[39m os\u001b[38;5;241m.\u001b[39mpath\u001b[38;5;241m.\u001b[39mjoin(label, file)\n\u001b[0;32m---> 20\u001b[0m     img \u001b[38;5;241m=\u001b[39m \u001b[43mcv2\u001b[49m\u001b[38;5;241;43m.\u001b[39;49m\u001b[43mimread\u001b[49m\u001b[43m(\u001b[49m\u001b[43mpath\u001b[49m\u001b[43m,\u001b[49m\u001b[43m \u001b[49m\u001b[43mcv2\u001b[49m\u001b[38;5;241;43m.\u001b[39;49m\u001b[43mIMREAD_GRAYSCALE\u001b[49m\u001b[43m)\u001b[49m\n\u001b[1;32m     21\u001b[0m     img \u001b[38;5;241m=\u001b[39m cv2\u001b[38;5;241m.\u001b[39mresize(img, (\u001b[38;5;28mself\u001b[39m\u001b[38;5;241m.\u001b[39mIMG_SIZE, \u001b[38;5;28mself\u001b[39m\u001b[38;5;241m.\u001b[39mIMG_SIZE))\n\u001b[1;32m     22\u001b[0m     \u001b[38;5;28mself\u001b[39m\u001b[38;5;241m.\u001b[39mtraining_data\u001b[38;5;241m.\u001b[39mappend([np\u001b[38;5;241m.\u001b[39marray(img), np\u001b[38;5;241m.\u001b[39meye(\u001b[38;5;241m2\u001b[39m)[\u001b[38;5;28mself\u001b[39m\u001b[38;5;241m.\u001b[39mLABELS[label]]])\n",
      "\u001b[0;31mKeyboardInterrupt\u001b[0m: "
     ]
    }
   ],
   "source": [
    "REBUILD_DATA = True\n",
    " \n",
    "    \n",
    "class Dvc():\n",
    "    IMG_SIZE = 50\n",
    "    CATS = 'PetImages/Cat'\n",
    "    DOGS = 'PetImages/Dog'\n",
    "    LABELS = {CATS: 0, DOGS: 1}\n",
    "    training_data = []\n",
    "    catcount = 0\n",
    "    dogcount = 0\n",
    "    \n",
    "    def make_training_data(self):\n",
    "        for label in self.LABELS:\n",
    "            print(label)\n",
    "            for file in tqdm(os.listdir(label)):\n",
    "                try:\n",
    "                    # print(label)\n",
    "                    path = os.path.join(label, file)\n",
    "                    img = cv2.imread(path, cv2.IMREAD_GRAYSCALE)\n",
    "                    img = cv2.resize(img, (self.IMG_SIZE, self.IMG_SIZE))\n",
    "                    self.training_data.append([np.array(img), np.eye(2)[self.LABELS[label]]])\n",
    "\n",
    "                    if label == self.CATS:\n",
    "                        self.catcount += 1\n",
    "                    elif label == self.DOGS:\n",
    "                        self.dogcount += 1\n",
    "                except Exception as e:\n",
    "                    pass\n",
    "            \n",
    "            np.random.shuffle(self.training_data)\n",
    "            np.save('training_data.npy', self.training_data)\n",
    "            print(\"cat: \", self.catcount)\n",
    "            print(\"dog: \", self.dogcount)\n",
    "            \n",
    "\n",
    "if REBUILD_DATA:\n",
    "    dogvcat = Dvc()\n",
    "    dogvcat.make_training_data()"
   ]
  },
  {
   "cell_type": "code",
   "execution_count": 7,
   "id": "3046cefe-fa0e-481e-b0b4-975443dc4023",
   "metadata": {},
   "outputs": [],
   "source": [
    "td = np.load(\"training_data.npy\",allow_pickle = True)"
   ]
  },
  {
   "cell_type": "code",
   "execution_count": 5,
   "id": "6ebea16f-f849-460c-9de2-c8b0455ed966",
   "metadata": {},
   "outputs": [
    {
     "data": {
      "text/plain": [
       "array([array([[ 97, 123, 221, ..., 121, 120, 110],\n",
       "              [138, 239, 246, ..., 127, 123, 116],\n",
       "              [201, 241, 249, ..., 121, 123, 120],\n",
       "              ...,\n",
       "              [103, 140,  87, ..., 208, 202, 136],\n",
       "              [127, 109, 118, ..., 122,  74, 126],\n",
       "              [104, 126, 105, ...,  63, 122, 106]], dtype=uint8),\n",
       "       array([0., 1.])], dtype=object)"
      ]
     },
     "execution_count": 5,
     "metadata": {},
     "output_type": "execute_result"
    }
   ],
   "source": [
    "td[1]"
   ]
  },
  {
   "cell_type": "code",
   "execution_count": 6,
   "id": "0034c215-1f4e-4cfc-ac39-10044454496d",
   "metadata": {},
   "outputs": [
    {
     "data": {
      "text/plain": [
       "<matplotlib.image.AxesImage at 0x7f520a6b91e0>"
      ]
     },
     "execution_count": 6,
     "metadata": {},
     "output_type": "execute_result"
    },
    {
     "data": {
      "image/png": "[encoded data removed]",
      "text/plain": [
       "<Figure size 432x288 with 1 Axes>"
      ]
     },
     "metadata": {
      "needs_background": "light"
     },
     "output_type": "display_data"
    }
   ],
   "source": [
    "import matplotlib.pyplot as plt\n",
    "plt.imshow(td[2][0], cmap=\"gray\")"
   ]
  },
  {
   "cell_type": "code",
   "execution_count": 8,
   "id": "5b5598ca-e325-4c70-a0b6-570a72ecb87d",
   "metadata": {},
   "outputs": [],
   "source": [
    "import torch\n",
    "import torch.nn as nn\n",
    "import torch.nn.functional as F\n",
    "\n",
    "\n",
    "class Net(nn.Module):\n",
    "    def __init__(self):\n",
    "        super().__init__()\n",
    "        self.conv1 = nn.Conv2d(1, 32, 5)\n",
    "        self.conv2 = nn.Conv2d(32, 64, 5)\n",
    "        self.conv3 = nn.Conv2d(64, 128, 5)\n",
    "        self.pool1 = nn.MaxPool2d((2, 2))\n",
    "        self.pool2 = nn.MaxPool2d((2, 2))\n",
    "        self.pool3 = nn.MaxPool2d((2, 2))\n",
    "        self.fc1 = nn.Linear(512, 512)\n",
    "        self.fc2 = nn.Linear(512, 2)\n",
    "        \n",
    "    def forward(self, x):\n",
    "        x = F.relu(self.conv1(x))\n",
    "        x = self.pool1(x)\n",
    "        x = F.relu(self.conv2(x))\n",
    "        x = self.pool2(x)\n",
    "        x = F.relu(self.conv3(x))\n",
    "        x = self.pool3(x)\n",
    "        x = x.flatten(start_dim=1) # print(x.shape) to put the value in self.fc1()\n",
    "        x = F.relu(self.fc1(x))\n",
    "        x = self.fc2(x)\n",
    "        return F.softmax(x, dim=1)\n",
    "        "
   ]
  },
  {
   "cell_type": "code",
   "execution_count": 9,
   "id": "9c78c79e-e172-4cda-b8b8-64d87cba6d9c",
   "metadata": {},
   "outputs": [
    {
     "data": {
      "text/plain": [
       "tensor([[0.5194, 0.4806]], grad_fn=<SoftmaxBackward0>)"
      ]
     },
     "execution_count": 9,
     "metadata": {},
     "output_type": "execute_result"
    }
   ],
   "source": [
    "net = Net()\n",
    "net.forward(torch.randn(1, 1, 50, 50)) "
   ]
  },
  {
   "cell_type": "code",
   "execution_count": 10,
   "id": "f2e5e015-e76d-41a2-9d3a-16ab5edeccae",
   "metadata": {},
   "outputs": [
    {
     "name": "stderr",
     "output_type": "stream",
     "text": [
      "/tmp/ipykernel_120961/1490855746.py:6: UserWarning: Creating a tensor from a list of numpy.ndarrays is extremely slow. Please consider converting the list to a single numpy.ndarray with numpy.array() before converting to a tensor. (Triggered internally at  ../torch/csrc/utils/tensor_new.cpp:210.)\n",
      "  X = torch.Tensor([i[0] for i in td]).view(-1, 50, 50)\n"
     ]
    }
   ],
   "source": [
    "import torch.optim as optim\n",
    "\n",
    "optimizer = optim.Adam(net.parameters(), lr=0.001)\n",
    "loss = nn.MSELoss()\n",
    "\n",
    "X = torch.Tensor([i[0] for i in td]).view(-1, 50, 50)\n",
    "X = X/255.0 # rescaling image\n",
    "\n",
    "y = torch.Tensor([i[1] for i in td])\n",
    "\n",
    "val_percent = 0.1\n",
    "val_size = int(len(X)*0.1)"
   ]
  },
  {
   "cell_type": "code",
   "execution_count": 11,
   "id": "74b3b8ba-04ee-4f41-975d-7faeadab4dff",
   "metadata": {},
   "outputs": [],
   "source": [
    "train_x = X[:-val_size]\n",
    "train_y = y[:-val_size]\n",
    "\n",
    "test_x = X[-val_size:]\n",
    "test_y  = y[-val_size:]"
   ]
  },
  {
   "cell_type": "code",
   "execution_count": 12,
   "id": "82cb8eff-5c35-4a7b-a582-c47a69cf4a35",
   "metadata": {},
   "outputs": [
    {
     "data": {
      "text/plain": [
       "11229"
      ]
     },
     "execution_count": 12,
     "metadata": {},
     "output_type": "execute_result"
    }
   ],
   "source": [
    "len(train_y)"
   ]
  },
  {
   "cell_type": "code",
   "execution_count": 13,
   "id": "31cd408d-3a52-4cc0-b9bc-214caf99091c",
   "metadata": {},
   "outputs": [
    {
     "name": "stdout",
     "output_type": "stream",
     "text": [
      "Epoch: 0\n"
     ]
    },
    {
     "name": "stderr",
     "output_type": "stream",
     "text": [
      "100%|█████████████████████████████████████████| 113/113 [00:14<00:00,  7.76it/s]\n"
     ]
    },
    {
     "name": "stdout",
     "output_type": "stream",
     "text": [
      "Epoch: 1\n"
     ]
    },
    {
     "name": "stderr",
     "output_type": "stream",
     "text": [
      "100%|█████████████████████████████████████████| 113/113 [00:11<00:00,  9.71it/s]\n"
     ]
    },
    {
     "name": "stdout",
     "output_type": "stream",
     "text": [
      "Epoch: 2\n"
     ]
    },
    {
     "name": "stderr",
     "output_type": "stream",
     "text": [
      "100%|█████████████████████████████████████████| 113/113 [00:13<00:00,  8.65it/s]\n"
     ]
    },
    {
     "name": "stdout",
     "output_type": "stream",
     "text": [
      "Epoch: 3\n"
     ]
    },
    {
     "name": "stderr",
     "output_type": "stream",
     "text": [
      "100%|█████████████████████████████████████████| 113/113 [00:13<00:00,  8.39it/s]\n"
     ]
    },
    {
     "name": "stdout",
     "output_type": "stream",
     "text": [
      "Epoch: 4\n"
     ]
    },
    {
     "name": "stderr",
     "output_type": "stream",
     "text": [
      "100%|█████████████████████████████████████████| 113/113 [00:14<00:00,  7.83it/s]\n"
     ]
    },
    {
     "name": "stdout",
     "output_type": "stream",
     "text": [
      "Epoch: 5\n"
     ]
    },
    {
     "name": "stderr",
     "output_type": "stream",
     "text": [
      "100%|█████████████████████████████████████████| 113/113 [00:13<00:00,  8.45it/s]\n"
     ]
    },
    {
     "name": "stdout",
     "output_type": "stream",
     "text": [
      "Epoch: 6\n"
     ]
    },
    {
     "name": "stderr",
     "output_type": "stream",
     "text": [
      "100%|█████████████████████████████████████████| 113/113 [00:12<00:00,  9.05it/s]\n"
     ]
    }
   ],
   "source": [
    "BATCH_SIZE = 100\n",
    "EPOCHS = 7\n",
    "\n",
    "for epoch in range(EPOCHS):\n",
    "    print(f\"Epoch: {epoch}\")\n",
    "    for i in tqdm(range(0, len(train_x), BATCH_SIZE)):\n",
    "        batch_x = train_x[i:i+BATCH_SIZE].view(-1, 1, 50, 50)\n",
    "        batch_y = train_y[i: i+BATCH_SIZE]\n",
    "        net.zero_grad()\n",
    "        outputs = net(batch_x)\n",
    "        loss_ = loss(outputs, batch_y)\n",
    "        loss_.backward()\n",
    "        optimizer.step()\n",
    "    "
   ]
  },
  {
   "cell_type": "code",
   "execution_count": 14,
   "id": "5d887581-6abe-4135-aab9-b02fc090bd06",
   "metadata": {},
   "outputs": [
    {
     "name": "stderr",
     "output_type": "stream",
     "text": [
      "100%|█████████████████████████████████████| 1247/1247 [00:00<00:00, 1424.77it/s]"
     ]
    },
    {
     "name": "stdout",
     "output_type": "stream",
     "text": [
      "Accuracy : 1.0\n"
     ]
    },
    {
     "name": "stderr",
     "output_type": "stream",
     "text": [
      "\n"
     ]
    }
   ],
   "source": [
    "correct = 0\n",
    "total = 0\n",
    "\n",
    "with torch.no_grad():\n",
    "    for i in tqdm(range(len(test_x))):\n",
    "        real_class = torch.argmax(test_y[i])\n",
    "        net_out = net(test_x[i].view(-1, 1, 50, 50))[0]\n",
    "        predicted_class = torch.argmax(net_out)\n",
    "        if predicted_class == real_class:\n",
    "            correct += 1\n",
    "        \n",
    "        total += 1\n",
    "        \n",
    "print(f\"Accuracy : {round(correct/total, 2)}\")"
   ]
  },
  {
   "cell_type": "code",
   "execution_count": 26,
   "id": "45925590-d0b6-4292-9f8a-42ffa7d484f0",
   "metadata": {},
   "outputs": [
    {
     "name": "stderr",
     "output_type": "stream",
     "text": [
      "Corrupt JPEG data: 65 extraneous bytes before marker 0xd9\n",
      "Corrupt JPEG data: 254 extraneous bytes before marker 0xd9\n",
      "Corrupt JPEG data: 226 extraneous bytes before marker 0xd9\n",
      "Corrupt JPEG data: 2230 extraneous bytes before marker 0xd9\n",
      "Warning: unknown JFIF revision number 0.00\n",
      "Corrupt JPEG data: 162 extraneous bytes before marker 0xd9\n",
      "Corrupt JPEG data: 1403 extraneous bytes before marker 0xd9\n",
      "Corrupt JPEG data: 399 extraneous bytes before marker 0xd9\n"
     ]
    },
    {
     "name": "stdout",
     "output_type": "stream",
     "text": [
      "1365\n",
      "12470\n"
     ]
    }
   ],
   "source": [
    "correct = 0\n",
    "total = 0\n",
    "import os\n",
    "files = os.listdir('PetImages/Dog')\n",
    "for i in files:\n",
    "    img = cv2.imread(f'PetImages/Dog/{i}')\n",
    "    try:\n",
    "        img = cv2.resize(img, (50, 50))\n",
    "        # img = np.array(img)\n",
    "        img = torch.Tensor(img)\n",
    "        with torch.no_grad():\n",
    "            net_out = net(img.view(-1, 1, 50, 50))[0]\n",
    "            predicted_class = torch.argmax(net_out)\n",
    "            if predicted_class == 0:\n",
    "                # print(\"Cat\")\n",
    "                correct += 1\n",
    "            total += 1\n",
    "    except:\n",
    "        pass\n",
    "print(correct)\n",
    "print(total)"
   ]
  },
  {
   "cell_type": "code",
   "execution_count": 20,
   "id": "1c57ae7c-1b96-47d7-9cc7-595c4605e540",
   "metadata": {},
   "outputs": [],
   "source": [
    "def fwd_pass(X, y, train=False):\n",
    "    if train:\n",
    "        net.zero_grad()\n",
    "    outputs = net(X)\n",
    "    matches = [torch.argmax(i) == torch.argmax(j) for i, j in zip(outputs, y)]\n",
    "    acc = matches.count(True)/len(matches)\n",
    "    loss_ = loss(outputs, y)\n",
    "    if train:\n",
    "        loss_.backward()\n",
    "        optimizer.step()\n",
    "    \n",
    "    return acc, loss_"
   ]
  },
  {
   "cell_type": "code",
   "execution_count": 21,
   "id": "c8db6451-8ed9-4200-853e-8d7913b78b5e",
   "metadata": {},
   "outputs": [],
   "source": [
    "def test(size=32):\n",
    "    random_start = np.random.randint(len(test_x)-size)\n",
    "    X, y = test_x[random_start:random_start+size], test_y[random_start:random_start+size]\n",
    "    with torch.no_grad():\n",
    "      val_acc, val_loss = fwd_pass(X.view(-1, 1, 50, 50), y)\n",
    "    return val_acc, val_loss"
   ]
  },
  {
   "cell_type": "code",
   "execution_count": 28,
   "id": "1a6defe2-e40f-4b75-8742-6c2a4c4869dd",
   "metadata": {},
   "outputs": [
    {
     "name": "stdout",
     "output_type": "stream",
     "text": [
      "1.0 tensor(0.)\n"
     ]
    }
   ],
   "source": [
    "val_acc, val_loss = test()\n",
    "print(val_acc, val_loss)"
   ]
  },
  {
   "cell_type": "code",
   "execution_count": null,
   "id": "3a2dd195-7448-4a48-b677-b0b17e9afdf7",
   "metadata": {},
   "outputs": [],
   "source": []
  },
  {
   "cell_type": "code",
   "execution_count": null,
   "id": "02bd630c-9a92-494f-809c-7173b11ff3c3",
   "metadata": {},
   "outputs": [],
   "source": []
  }
 ],
 "metadata": {
  "kernelspec": {
   "display_name": "Python 3 (ipykernel)",
   "language": "python",
   "name": "python3"
  },
  "language_info": {
   "codemirror_mode": {
    "name": "ipython",
    "version": 3
   },
   "file_extension": ".py",
   "mimetype": "text/x-python",
   "name": "python",
   "nbconvert_exporter": "python",
   "pygments_lexer": "ipython3",
   "version": "3.10.4"
  }
 },
 "nbformat": 4,
 "nbformat_minor": 5
}
